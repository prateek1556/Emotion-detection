{
 "cells": [
  {
   "cell_type": "code",
   "execution_count": 1,
   "metadata": {},
   "outputs": [],
   "source": [
    "import cv2\n",
    "import label_image"
   ]
  },
  {
   "cell_type": "code",
   "execution_count": 2,
   "metadata": {},
   "outputs": [],
   "source": [
    "size = 4\n",
    "\n",
    "\n",
    "# We load the xml file\n",
    "classifier = cv2.CascadeClassifier('haarcascade_frontalface_alt.xml')\n",
    "\n",
    "webcam = cv2.VideoCapture(0) #Using default WebCam connected to the PC."
   ]
  },
  {
   "cell_type": "code",
   "execution_count": 3,
   "metadata": {},
   "outputs": [
    {
     "name": "stderr",
     "output_type": "stream",
     "text": [
      "usage: ipykernel_launcher.py [-h] [--image IMAGE] [--graph GRAPH]\n",
      "                             [--labels LABELS] [--input_height INPUT_HEIGHT]\n",
      "                             [--input_width INPUT_WIDTH]\n",
      "                             [--input_mean INPUT_MEAN] [--input_std INPUT_STD]\n",
      "                             [--input_layer INPUT_LAYER]\n",
      "                             [--output_layer OUTPUT_LAYER]\n",
      "ipykernel_launcher.py: error: unrecognized arguments: -f C:\\Users\\Prateek\\AppData\\Roaming\\jupyter\\runtime\\kernel-847b5faf-bad5-4533-86f3-86cd383bdb95.json\n"
     ]
    },
    {
     "ename": "SystemExit",
     "evalue": "2",
     "output_type": "error",
     "traceback": [
      "An exception has occurred, use %tb to see the full traceback.\n",
      "\u001b[1;31mSystemExit\u001b[0m\u001b[1;31m:\u001b[0m 2\n"
     ]
    },
    {
     "name": "stderr",
     "output_type": "stream",
     "text": [
      "c:\\users\\prateek\\appdata\\local\\programs\\python\\python36\\lib\\site-packages\\IPython\\core\\interactiveshell.py:3275: UserWarning: To exit: use 'exit', 'quit', or Ctrl-D.\n",
      "  warn(\"To exit: use 'exit', 'quit', or Ctrl-D.\", stacklevel=1)\n"
     ]
    }
   ],
   "source": [
    "while True:\n",
    "    (rval, im) = webcam.read()\n",
    "    im=cv2.flip(im,1,0) #Flip to act as a mirror\n",
    "\n",
    "    # Resize the image to speed up detection\n",
    "    mini = cv2.resize(im, (int(im.shape[1]/size), int(im.shape[0]/size)))\n",
    "\n",
    "    # detect MultiScale / faces \n",
    "    faces = classifier.detectMultiScale(mini)\n",
    "\n",
    "    # Draw rectangles around each face\n",
    "    for f in faces:\n",
    "        (x, y, w, h) = [v * size for v in f] #Scale the shapesize backup\n",
    "        cv2.rectangle(im, (x,y), (x+w,y+h), (0,255,0), 4)\n",
    "        \n",
    "        #Save just the rectangle faces in SubRecFaces\n",
    "        sub_face = im[y:y+h, x:x+w]\n",
    "\n",
    "        FaceFileName = \"test.jpg\" #Saving the current image from the webcam for testing.\n",
    "        cv2.imwrite(FaceFileName, sub_face)\n",
    "        \n",
    "        text = label_image.main(FaceFileName)# Getting the Result from the label_image file, i.e., Classification Result.\n",
    "        text = text.title()# Title Case looks Stunning.\n",
    "        font = cv2.FONT_HERSHEY_TRIPLEX\n",
    "        cv2.putText(im, text,(x+w,y), font, 1, (0,0,255), 2)\n",
    "\n",
    "    # Show the image\n",
    "    cv2.imshow('Capture',   im)\n",
    "    key = cv2.waitKey(10)\n",
    "    # if Esc key is press then break out of the loop \n",
    "    if key == 27: #The Esc key\n",
    "        break\n"
   ]
  },
  {
   "cell_type": "code",
   "execution_count": null,
   "metadata": {},
   "outputs": [],
   "source": []
  }
 ],
 "metadata": {
  "kernelspec": {
   "display_name": "Python 3",
   "language": "python",
   "name": "python3"
  },
  "language_info": {
   "codemirror_mode": {
    "name": "ipython",
    "version": 3
   },
   "file_extension": ".py",
   "mimetype": "text/x-python",
   "name": "python",
   "nbconvert_exporter": "python",
   "pygments_lexer": "ipython3",
   "version": "3.6.6"
  }
 },
 "nbformat": 4,
 "nbformat_minor": 2
}
